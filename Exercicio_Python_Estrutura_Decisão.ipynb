{
  "nbformat": 4,
  "nbformat_minor": 0,
  "metadata": {
    "colab": {
      "name": "Exercicio Python Estrutura Decisão.ipynb",
      "provenance": [],
      "authorship_tag": "ABX9TyN9nOCOD73dqrYv5MyTj7Kp",
      "include_colab_link": true
    },
    "kernelspec": {
      "name": "python3",
      "display_name": "Python 3"
    }
  },
  "cells": [
    {
      "cell_type": "markdown",
      "metadata": {
        "id": "view-in-github",
        "colab_type": "text"
      },
      "source": [
        "<a href=\"https://colab.research.google.com/github/naokityokoyama/Exercicios-de-Python/blob/master/Exercicio_Python_Estrutura_Decis%C3%A3o.ipynb\" target=\"_parent\"><img src=\"https://colab.research.google.com/assets/colab-badge.svg\" alt=\"Open In Colab\"/></a>"
      ]
    },
    {
      "cell_type": "markdown",
      "metadata": {
        "id": "HfmrfN7KOPAT",
        "colab_type": "text"
      },
      "source": [
        "# **Lista de Exercicios de python [Estrutura de decisão]**"
      ]
    },
    {
      "cell_type": "markdown",
      "metadata": {
        "id": "fLOyCiTpOUb0",
        "colab_type": "text"
      },
      "source": [
        "1- Faça um Programa que peça dois números e imprima o maior deles."
      ]
    },
    {
      "cell_type": "code",
      "metadata": {
        "id": "Qv76gZS9OpDZ",
        "colab_type": "code",
        "colab": {}
      },
      "source": [
        "n1= int(input(\"Digite o 1 numero \"))\n",
        "n2= int(input(\"Digite o 2 numero \"))\n",
        "\n",
        "if n1 > n2:\n",
        "  print (\"o Primeiro numero é maior\")\n",
        "elif n1 < n2:\n",
        "  print ('o segundo numero é maior')\n",
        "else:\n",
        "  print (\"os numeros são iguais \")    "
      ],
      "execution_count": null,
      "outputs": []
    },
    {
      "cell_type": "markdown",
      "metadata": {
        "id": "NIFtwaTvOa3F",
        "colab_type": "text"
      },
      "source": [
        "2- Faça um Programa que peça um valor e mostre na tela se o valor é positivo ou negativo."
      ]
    },
    {
      "cell_type": "code",
      "metadata": {
        "id": "soMKE3tzQqtl",
        "colab_type": "code",
        "colab": {}
      },
      "source": [
        "num = int(input('Informe um numero: '))\n",
        "\n",
        "if (num > 0):\n",
        "    print ('eh positivo')\n",
        "elif (num < 0):\n",
        "    print ('eh negativo')\n",
        "else:\n",
        "    print ('O numero eh igual a 0')"
      ],
      "execution_count": null,
      "outputs": []
    },
    {
      "cell_type": "markdown",
      "metadata": {
        "id": "8xIB68LCOeEO",
        "colab_type": "text"
      },
      "source": [
        "3- Faça um Programa que verifique se uma letra digitada é \"F\" ou \"M\". Conforme a letra escrever: F - Feminino, M - Masculino, Sexo Inválido."
      ]
    },
    {
      "cell_type": "code",
      "metadata": {
        "id": "3olwX9zsQ29o",
        "colab_type": "code",
        "colab": {}
      },
      "source": [
        "sexo = input('Informe F para FEMININO ou M para MASCULINO: ').upper()\n",
        "\n",
        "if (sexo.upper() == 'M'):\n",
        "    print ('MASCULINO')\n",
        "elif (sexo.upper() == 'F'):\n",
        "    print ('FEMININO')\n",
        "else:\n",
        "    print ('Sexo Invalido')"
      ],
      "execution_count": null,
      "outputs": []
    },
    {
      "cell_type": "markdown",
      "metadata": {
        "id": "h8IQD4UnOhVX",
        "colab_type": "text"
      },
      "source": [
        "4- Faça um Programa que verifique se uma letra digitada é vogal ou consoante."
      ]
    },
    {
      "cell_type": "code",
      "metadata": {
        "id": "oQ1KmGDjPgdz",
        "colab_type": "code",
        "colab": {}
      },
      "source": [
        "lista = ['A','E','I','O','U']\n",
        "\n",
        "letra = str(input(\"Digite a letra: \")).upper()\n",
        "if letra in lista:\n",
        "  print (\"é Vogal\")\n",
        "else:\n",
        "  print ('é Consoante')  "
      ],
      "execution_count": null,
      "outputs": []
    },
    {
      "cell_type": "markdown",
      "metadata": {
        "id": "5a2EcLJURE1a",
        "colab_type": "text"
      },
      "source": [
        ""
      ]
    }
  ]
}