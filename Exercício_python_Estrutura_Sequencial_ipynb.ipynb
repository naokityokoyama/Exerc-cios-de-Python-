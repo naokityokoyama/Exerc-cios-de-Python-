{
  "nbformat": 4,
  "nbformat_minor": 0,
  "metadata": {
    "colab": {
      "name": "Exercício python Estrutura Sequencial ipynb",
      "provenance": [],
      "authorship_tag": "ABX9TyOb3lR8ha5GRdtV1RhRcxFf",
      "include_colab_link": true
    },
    "kernelspec": {
      "name": "python3",
      "display_name": "Python 3"
    }
  },
  "cells": [
    {
      "cell_type": "markdown",
      "metadata": {
        "id": "view-in-github",
        "colab_type": "text"
      },
      "source": [
        "<a href=\"https://colab.research.google.com/github/naokityokoyama/Exerc-cios-de-Python-/blob/master/Exerc%C3%ADcio_python_Estrutura_Sequencial_ipynb.ipynb\" target=\"_parent\"><img src=\"https://colab.research.google.com/assets/colab-badge.svg\" alt=\"Open In Colab\"/></a>"
      ]
    },
    {
      "cell_type": "markdown",
      "metadata": {
        "id": "7qos-Ywo1ppW",
        "colab_type": "text"
      },
      "source": [
        "# **Lista de Exercicios de python [Estrutura Sequencial]**"
      ]
    },
    {
      "cell_type": "markdown",
      "metadata": {
        "id": "jOkUbxYi1uTT",
        "colab_type": "text"
      },
      "source": [
        "1- Faça um Programa que mostre a mensagem \"Alo mundo\" na tela."
      ]
    },
    {
      "cell_type": "code",
      "metadata": {
        "id": "285peopR1vzu",
        "colab_type": "code",
        "colab": {}
      },
      "source": [
        "print (\"hello World\")"
      ],
      "execution_count": null,
      "outputs": []
    },
    {
      "cell_type": "markdown",
      "metadata": {
        "id": "JNfRRZxc18Ib",
        "colab_type": "text"
      },
      "source": [
        "2- Faça um Programa que peça um número e então mostre a mensagem O número informado foi [número]."
      ]
    },
    {
      "cell_type": "code",
      "metadata": {
        "id": "r2xFBZ-E1_wL",
        "colab_type": "code",
        "colab": {}
      },
      "source": [
        "numero = int(input(\"Digite o numero \"))\n",
        "print (f'o numero informado é {numero}')"
      ],
      "execution_count": null,
      "outputs": []
    },
    {
      "cell_type": "markdown",
      "metadata": {
        "id": "IerWKT-O2Wxq",
        "colab_type": "text"
      },
      "source": [
        "3- Faça um Programa que peça dois números e imprima a soma."
      ]
    },
    {
      "cell_type": "code",
      "metadata": {
        "id": "9_-MkibS2dIi",
        "colab_type": "code",
        "colab": {}
      },
      "source": [
        "numero1 = int(input('Digite o primeiro numero '))\n",
        "numero2 = int(input('Digite o primeiro numero '))\n",
        "soma = numero1 + numero2\n",
        "print (f'a Soma dos dois numeros é {soma}')"
      ],
      "execution_count": null,
      "outputs": []
    },
    {
      "cell_type": "markdown",
      "metadata": {
        "id": "yyq1IN4K29bn",
        "colab_type": "text"
      },
      "source": [
        "4- Faça um Programa que peça as 4 notas bimestrais e mostre a média."
      ]
    },
    {
      "cell_type": "code",
      "metadata": {
        "id": "qNwAv3bD3NTL",
        "colab_type": "code",
        "colab": {}
      },
      "source": [
        "nota1 = float(input(\"digite a nota 1 \"))\n",
        "nota2 = float(input(\"digite a nota 2 \"))\n",
        "nota3 = float(input(\"digite a nota 3 \"))\n",
        "nota4 = float(input(\"digite a nota 4 \"))\n",
        "media = (nota1 + nota2 + nota3 + nota4)/4\n",
        "print (f'a media foi de {media}')"
      ],
      "execution_count": null,
      "outputs": []
    },
    {
      "cell_type": "markdown",
      "metadata": {
        "id": "oQz-UUDi32vF",
        "colab_type": "text"
      },
      "source": [
        "5- Faça um Programa que converta metros para centímetros"
      ]
    },
    {
      "cell_type": "code",
      "metadata": {
        "id": "n3uECJJI39Be",
        "colab_type": "code",
        "colab": {}
      },
      "source": [
        "metros_cm = float(input(\"Digite a medida em Metros \"))\n",
        "converso = metros_cm * 100\n",
        "\n",
        "print (f'a conversão de metros para cm foi de {converso:.0f} cm')"
      ],
      "execution_count": null,
      "outputs": []
    },
    {
      "cell_type": "markdown",
      "metadata": {
        "id": "9goGP0zMC3qb",
        "colab_type": "text"
      },
      "source": [
        "6- Faça um Programa que peça o raio de um círculo, calcule e mostre sua área."
      ]
    },
    {
      "cell_type": "code",
      "metadata": {
        "id": "iID91_csC5xi",
        "colab_type": "code",
        "colab": {}
      },
      "source": [
        "raio = float(input(\"Digite o Raio \"))\n",
        "area = 3.14 * raio**2\n",
        "print (f'A area do Circulo é {area}')"
      ],
      "execution_count": null,
      "outputs": []
    },
    {
      "cell_type": "markdown",
      "metadata": {
        "id": "UEbkY5lZDeb4",
        "colab_type": "text"
      },
      "source": [
        "7- Faça um Programa que calcule a área de um quadrado, em seguida mostre o dobro desta área para o usuário."
      ]
    },
    {
      "cell_type": "code",
      "metadata": {
        "id": "C1d8VHSfFy6y",
        "colab_type": "code",
        "colab": {}
      },
      "source": [
        "lado = int(input(\"Informe a medida do lado de um quadrado: \"))\n",
        "Area = (lado * lado)*2\n",
        "print (f'o quadrado dobrado é {Area}')"
      ],
      "execution_count": null,
      "outputs": []
    },
    {
      "cell_type": "markdown",
      "metadata": {
        "id": "HG_tZ310ENtQ",
        "colab_type": "text"
      },
      "source": [
        "8- Faça um Programa que pergunte quanto você ganha por hora e o número de horas trabalhadas no mês. Calcule e mostre o total do seu salário no referido mês."
      ]
    },
    {
      "cell_type": "code",
      "metadata": {
        "id": "PmMJB2_LGwrv",
        "colab_type": "code",
        "colab": {}
      },
      "source": [
        "valorPorHora = int(input('Qual o valor da sua hora trabalhada: '))\n",
        "horas = int(input('Informe a quantidade de horas trabalhadas: '))\n",
        "print ('Seu salario neste mes sera', valorPorHora * horas)"
      ],
      "execution_count": null,
      "outputs": []
    },
    {
      "cell_type": "markdown",
      "metadata": {
        "id": "NtCwyBCsERVl",
        "colab_type": "text"
      },
      "source": [
        "9- Faça um Programa que peça a temperatura em graus Farenheit, transforme e mostre a temperatura em graus Celsius.\n",
        "C = 5 * ((F-32) / 9)."
      ]
    },
    {
      "cell_type": "code",
      "metadata": {
        "id": "pMh1ELW4HDoi",
        "colab_type": "code",
        "colab": {}
      },
      "source": [
        "farenheit = int(input('Informe a temperatura em Farenheit: '))\n",
        "celsius = 5 * (farenheit - 32) / 9.0\n",
        "print (f\"A temperatura em Celsius eh {celsius:.2f}\")"
      ],
      "execution_count": null,
      "outputs": []
    },
    {
      "cell_type": "markdown",
      "metadata": {
        "id": "yMw2cDSkET1v",
        "colab_type": "text"
      },
      "source": [
        "10- Faça um Programa que peça a temperatura em graus Celsius, transforme e mostre em graus Farenheit."
      ]
    },
    {
      "cell_type": "code",
      "metadata": {
        "id": "9Sv8weItHeLo",
        "colab_type": "code",
        "colab": {}
      },
      "source": [
        "celsius = float(input('Informe a temperatura em Celsius: '))\n",
        "farenheit = ((celsius / 5.0) * 9.0) + 32.0\n",
        "\n",
        "print (f\"A temperatura em Farenheit eh {farenheit:.2f}\")"
      ],
      "execution_count": null,
      "outputs": []
    },
    {
      "cell_type": "markdown",
      "metadata": {
        "id": "WPY3dfVtEXXH",
        "colab_type": "text"
      },
      "source": [
        "11- Faça um Programa que peça 2 números inteiros e um número real. Calcule e mostre:\n",
        "a) o produto do dobro do primeiro com metade do segundo .\n",
        "b) a soma do triplo do primeiro com o terceiro.\n",
        "c) o terceiro elevado ao cubo."
      ]
    },
    {
      "cell_type": "code",
      "metadata": {
        "id": "Q-Y4fIR1HpWf",
        "colab_type": "code",
        "colab": {}
      },
      "source": [
        "import math\n",
        "\n",
        "numInt1 = int(input('Informe um numero inteiro: '))\n",
        "numInt2 = int(input('Informe outro numero inteiro: '))\n",
        "numReal = float(input('Informe um numero real: '))\n",
        "\n",
        "print (f'O dobro do primeiro vezes a metade do segundo é {(2*numInt1) / (numInt2 /2)}')\n",
        "print (f'A soma do triplo do primeiro com o terceiro eh{(3 * numInt1) + numReal})')\n",
        "print (f'O terceiro elevado ao cubo é {math.pow(numReal, 3)}')"
      ],
      "execution_count": null,
      "outputs": []
    },
    {
      "cell_type": "markdown",
      "metadata": {
        "id": "jFYwUBlnEe-u",
        "colab_type": "text"
      },
      "source": [
        "12- Tendo como dados de entrada a altura de uma pessoa, construa um algoritmo que calcule seu peso ideal, usando a seguinte fórmula: (72.7*altura) - 58"
      ]
    },
    {
      "cell_type": "code",
      "metadata": {
        "id": "PHF0GVpKJBkH",
        "colab_type": "code",
        "colab": {}
      },
      "source": [
        "altura = float(input('Informe a sua altura: '))\n",
        "pesoIdeal = (72.7 * altura) - 58\n",
        "print (f'Seu peso ideal é {pesoIdeal}')"
      ],
      "execution_count": null,
      "outputs": []
    },
    {
      "cell_type": "markdown",
      "metadata": {
        "id": "naGAdaiLEjRH",
        "colab_type": "text"
      },
      "source": [
        "13- Tendo como dado de entrada a altura (h) de uma pessoa, construa um algoritmo que calcule seu peso ideal, utilizando as seguintes fórmulas:\n",
        "Para homens: (72.7*h) - 58\n",
        "Para mulheres: (62.1*h) - 44.7"
      ]
    },
    {
      "cell_type": "code",
      "metadata": {
        "id": "q_Cb74wdJesO",
        "colab_type": "code",
        "colab": {}
      },
      "source": [
        "sexo = input('Informe seu sexo (M/F): ').upper().strip()\n",
        "altura = float(input('Informe sua altura (em metros): '))\n",
        "peso = float(input('Informe o seu peso (em kg): '))\n",
        "\n",
        "if (sexo == 'M'):\n",
        "    pesoIdeal = (72.7 * altura) - 58\n",
        "else:\n",
        "    pesoIdeal = (62.1 * altura) - 44.7\n",
        "\n",
        "if (peso > pesoIdeal):\n",
        "    print (f'Voce esta acima do seu peso ideal: {pesoIdeal}')\n",
        "elif (peso < pesoIdeal):\n",
        "    print ('Voce esta abaixo do seu peso ideal: {pesoIdeal}')\n",
        "else:\n",
        "    print ('Voce esta no seu peso ideal: {pesoIdeal}')"
      ],
      "execution_count": null,
      "outputs": []
    },
    {
      "cell_type": "markdown",
      "metadata": {
        "id": "SbydCVW7EluI",
        "colab_type": "text"
      },
      "source": [
        "14- João Papo-de-Pescador, homem de bem, comprou um microcomputador para controlar o rendimento diário de seu trabalho. Toda vez que ele traz um peso de peixes maior que o estabelecido pelo regulamento de pesca do estado de São Paulo (50 quilos) deve pagar uma multa de R$ 4,00 por quilo excedente. João precisa que você faça um programa que leia a variável peso (peso de peixes) e calcule o excesso. Gravar na variável excesso a quantidade de quilos além do limite e na variável multa o valor da multa que João deverá pagar. Imprima os dados do programa com as mensagens adequadas."
      ]
    },
    {
      "cell_type": "code",
      "metadata": {
        "id": "pBA1SdfUKVFz",
        "colab_type": "code",
        "colab": {}
      },
      "source": [
        "peso = float(input('Informe o peso dos peixes pescados:'))\n",
        "multaPorQuilo = 4.0\n",
        "pesoMaximo = 50.0\n",
        "\n",
        "if (peso > pesoMaximo):\n",
        "    excesso = peso - pesoMaximo\n",
        "    print (f'Excesso de peso: {excesso}')\n",
        "    print (f'Valor da multa por excesso {excesso * multaPorQuilo}')\n",
        "else:\n",
        "    print ('Nao houve excesso de peso')"
      ],
      "execution_count": null,
      "outputs": []
    },
    {
      "cell_type": "markdown",
      "metadata": {
        "id": "FF-sdUEGEpGl",
        "colab_type": "text"
      },
      "source": [
        "15- Faça um Programa que pergunte quanto você ganha por hora e o número de horas trabalhadas no mês. Calcule e mostre o total do seu salário no referido mês, sabendo-se que são descontados 11% para o Imposto de Renda, 8% para o INSS e 5% para o sindicato, faça um programa que nos dê:\n",
        "salário bruto.\n",
        "quanto pagou ao INSS.\n",
        "quanto pagou ao sindicato.\n",
        "o salário líquido.\n",
        "calcule os descontos e o salário líquido, conforme a tabela abaixo:\n",
        " Salário Bruto : R$\n",
        " (-)IR (11%) : R$\n",
        " (-)INSS (8%) : R$\n",
        " (-)Sindicato ( 5%) : R$\n",
        " (=) Salário Liquido : R$"
      ]
    },
    {
      "cell_type": "code",
      "metadata": {
        "id": "N9CJYRGgKxsT",
        "colab_type": "code",
        "colab": {}
      },
      "source": [
        "valorPorHora = float(input('Quanto voce ganha por hora: '))\n",
        "horasTrabalhadas = float(input('Quantas horas voce trabalhou no mes: '))\n",
        "\n",
        "salarioBruto = valorPorHora * horasTrabalhadas\n",
        "impostoRenda = salarioBruto * 0.11\n",
        "inss = salarioBruto * 0.08\n",
        "sindicato = salarioBruto * 0.05\n",
        "salarioLiquido = salarioBruto - impostoRenda - inss - sindicato\n",
        "\n",
        "print (f'Salario Bruto: {salarioBruto}')\n",
        "print (f'Imposto de Renda: {impostoRenda}')\n",
        "print (f'INSS: {inss}')\n",
        "print (f'Sindicato: {sindicato}')\n",
        "print (f'Salario Liquido:  {salarioLiquido}')"
      ],
      "execution_count": null,
      "outputs": []
    },
    {
      "cell_type": "markdown",
      "metadata": {
        "id": "jZRb58y-EuTI",
        "colab_type": "text"
      },
      "source": [
        "16- Faça um programa para uma loja de tintas. O programa deverá pedir o tamanho em metros quadrados da área a ser pintada. Considere que a cobertura da tinta é de 1 litro para cada 3 metros quadrados e que a tinta é vendida em latas de 18 litros, que custam R$ 80,00. Informe ao usuário a quantidades de latas de tinta a serem compradas e o preço total."
      ]
    },
    {
      "cell_type": "code",
      "metadata": {
        "id": "K-1QtToWLQl6",
        "colab_type": "code",
        "colab": {}
      },
      "source": [
        "tamanho = float(input('Quantos metros quadrados devem ser pintados: '))\n",
        "\n",
        "litros = tamanho / 3.0\n",
        "latas = int(litros / 18.0)\n",
        "if (litros % 18 != 0):\n",
        "    latas += 1\n",
        "\n",
        "print (f'Voce devera comprar latas {latas}')\n",
        "print (f'O valor total eh: {latas * 80}')"
      ],
      "execution_count": null,
      "outputs": []
    }
  ]
}